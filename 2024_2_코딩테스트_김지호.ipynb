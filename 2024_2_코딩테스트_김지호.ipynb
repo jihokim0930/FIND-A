{
  "cells": [
    {
      "cell_type": "markdown",
      "source": [
        "** 코딩테스트 문제는 모두 풀지 않아도 지원 가능합니다. 지원자분들의 전체적인 코딩 실력을 파악하여 커리큘럼에 반영하고자 진행되는 테스트이기 때문에 부담 없이 풀어주시면 됩니다!"
      ],
      "metadata": {
        "id": "BEns5KNM3yde"
      },
      "id": "BEns5KNM3yde"
    },
    {
      "cell_type": "markdown",
      "source": [
        "### 1. 자연수 N을 입력하면 N 이하의 모든 소수(Prime Number)의 합을 반환하는 함수를 작성하시오. 이후 이 함수를 이용하여 100, 1000, 10000 각각에 대한 모든 소수의 합을 구하여 보고하시오."
      ],
      "metadata": {
        "id": "BFL-xW8LtuQZ"
      },
      "id": "BFL-xW8LtuQZ"
    },
    {
      "cell_type": "code",
      "source": [
        "def sum_of_primes(N):\n",
        "    sieve = [True] * (N + 1)\n",
        "    sieve[0] = sieve[1] = False\n",
        "\n",
        "    for start in range(2, int(N**0.5) + 1):\n",
        "        if sieve[start]:\n",
        "            for multiple in range(start*start, N + 1, start):\n",
        "                sieve[multiple] = False\n",
        "\n",
        "    prime_sum = sum(num for num, is_prime in enumerate(sieve) if is_prime)\n",
        "    return prime_sum\n",
        "\n",
        "result_100 = sum_of_primes(100)\n",
        "result_1000 = sum_of_primes(1000)\n",
        "result_10000 = sum_of_primes(10000)\n",
        "\n",
        "print(\"100 이하의 소수의 합:\", result_100)\n",
        "print(\"1000 이하의 소수의 합:\", result_1000)\n",
        "print(\"10000 이하의 소수의 합:\", result_10000)"
      ],
      "metadata": {
        "colab": {
          "base_uri": "https://localhost:8080/"
        },
        "id": "OlgF9fKT80mh",
        "outputId": "15d823e2-52f8-4e94-ca23-6f3e332ae4a2"
      },
      "id": "OlgF9fKT80mh",
      "execution_count": 3,
      "outputs": [
        {
          "output_type": "stream",
          "name": "stdout",
          "text": [
            "100 이하의 소수의 합: 1060\n",
            "1000 이하의 소수의 합: 76127\n",
            "10000 이하의 소수의 합: 5736396\n"
          ]
        }
      ]
    },
    {
      "cell_type": "markdown",
      "source": [
        "### 2. 김파인 씨는 비밀번호 설정 프로그램을 만드는 중이다. 아래 조건에 부합하는 비밀번호를 입력받으면 해당 비밀번호를 반환하고, 그렇지 않으면 ‘재설정하시오’ 문구를 반환하는 함수를 작성하시오.\n",
        "\n",
        "[조건]\n",
        "1) 4자리 이상, 10자리 이하일 것\n",
        "2) 대소문자 알파벳, 숫자만 사용 가능\n",
        "3) 대문자와 소문자 알파벳을 각각 한 개 이상씩 포함할 것\n",
        "4) 같은 문자 혹은 숫자는 2번까지만 사용 가능\n"
      ],
      "metadata": {
        "id": "P-ZzPu4buLTK"
      },
      "id": "P-ZzPu4buLTK"
    },
    {
      "cell_type": "code",
      "source": [
        "import re\n",
        "from collections import Counter\n",
        "\n",
        "def is_valid_password(password):\n",
        "    if not (4 <= len(password) <= 10):\n",
        "        return \"재설정하시오\"\n",
        "\n",
        "    if not re.match(\"^[A-Za-z0-9]+$\", password):\n",
        "        return \"재설정하시오\"\n",
        "\n",
        "    if not re.search(\"[A-Z]\", password) or not re.search(\"[a-z]\", password):\n",
        "        return \"재설정하시오\"\n",
        "\n",
        "    char_count = Counter(password)\n",
        "    if any(count > 2 for count in char_count.values()):\n",
        "        return \"재설정하시오\"\n",
        "\n",
        "    return password\n",
        "\n",
        "password = input(\"비밀번호를 입력하시오: \")\n",
        "result = is_valid_password(password)\n",
        "print(result)"
      ],
      "metadata": {
        "colab": {
          "base_uri": "https://localhost:8080/"
        },
        "id": "cdNCgUvk-FgL",
        "outputId": "50733d18-0aa1-48e5-f0e7-a4bf869aae68"
      },
      "id": "cdNCgUvk-FgL",
      "execution_count": 6,
      "outputs": [
        {
          "output_type": "stream",
          "name": "stdout",
          "text": [
            "비밀번호를 입력하시오: 438ㅐㅗ갖ㄹ\n",
            "재설정하시오\n"
          ]
        }
      ]
    },
    {
      "cell_type": "markdown",
      "id": "81d8d21c",
      "metadata": {
        "id": "81d8d21c"
      },
      "source": [
        "### 3. OOP(객체지향 프로그래밍)\n",
        "당신은 현재 고객의 자산을 관리중에 있습니다. 고객 관리를 편리하게 하기 위해 자산 관리와 관련된 Class를 만들고자 합니다. 다음의 조건과 코드에 맞춰 코드로 구현하여 보고하세요.\n",
        "- 객체 지향 프로그래밍을 할 것\n",
        "- Class 변수에는 다음과 같은 변수가 들어갈 것\n",
        "    - 고객의 이름\n",
        "    - 신탁 자산의 총액\n",
        "    - 시장의 무위험 이자율\n",
        "    - 적용 금리\n",
        "- Class Instance 변수를 보호(protected) 모드로 설정할 것\n",
        "    - 단, 지정된 변수는 property를 이용해 외부에서 접근이 가능하도록 할 것\n",
        "- method로는 다음을 고려할 것\n",
        "    - 현재가치를 미래가치로 변환\n",
        "    - 미래가치를 현재가치로 변환\n",
        "    - 초과 수익률 계산"
      ]
    },
    {
      "cell_type": "code",
      "execution_count": 10,
      "id": "ab76bc5b",
      "metadata": {
        "id": "ab76bc5b",
        "colab": {
          "base_uri": "https://localhost:8080/"
        },
        "outputId": "e34864ae-c84f-4e4a-b2ab-f6564cccedc1"
      },
      "outputs": [
        {
          "output_type": "stream",
          "name": "stdout",
          "text": [
            "10년 후 미래가치: 1480244.2849183443\n",
            "현재가치로 환산: 1000000.0\n",
            "초과 수익률: 0.02\n"
          ]
        }
      ],
      "source": [
        "class makeAsset(object) :\n",
        "    def __init__(self, name, asset, rf, rate) :\n",
        "        self._name = name\n",
        "        self._asset = asset\n",
        "        self._rf = rf\n",
        "        self._rate = rate\n",
        "\n",
        "    @property\n",
        "    def name(self):\n",
        "        return self._name\n",
        "\n",
        "    @name.setter\n",
        "    def name(self, value):\n",
        "        self._name = value\n",
        "\n",
        "    @property\n",
        "    def asset(self):\n",
        "        return self._asset\n",
        "\n",
        "    @asset.setter\n",
        "    def asset(self, value):\n",
        "        self._asset = value\n",
        "\n",
        "    @property\n",
        "    def rf(self):\n",
        "        return self._rf\n",
        "\n",
        "    @rf.setter\n",
        "    def rf(self, value):\n",
        "        self._rf = value\n",
        "\n",
        "    @property\n",
        "    def rate(self):\n",
        "        return self._rate\n",
        "\n",
        "    @rate.setter\n",
        "    def rate(self, value):\n",
        "        self._rate = value\n",
        "\n",
        "    def present2future(self, years):\n",
        "        future_value = self._asset * (1 + self._rate) ** years\n",
        "        return future_value\n",
        "\n",
        "    def future2present(self, future_value, years):\n",
        "        present_value = future_value / ((1 + self._rate) ** years)\n",
        "        return present_value\n",
        "\n",
        "    def excessReturn(self):\n",
        "        excess_return = self._rate - self._rf\n",
        "        return excess_return\n",
        "\n",
        "if __name__ == '__main__' :\n",
        "    pass # 프로그램 실행 부분\n",
        "\n",
        "if __name__ == '__main__':\n",
        "    AssetManagement = makeAsset(\"김지호\", 1000000, 0.02, 0.04)\n",
        "\n",
        "    future_value = AssetManagement.present2future(10)\n",
        "    print(f\"10년 후 미래가치: {future_value}\")\n",
        "\n",
        "    # 미래 가치를 현재 가치로 환산 (예: 10년 후의 미래가치 1628894.6267774415을 현재 가치로 환산)\n",
        "    present_value = AssetManagement.future2present(future_value, 10)\n",
        "    print(f\"현재가치로 환산: {present_value}\")\n",
        "\n",
        "    # 초과 수익률 계산\n",
        "    excess_return = AssetManagement.excessReturn()\n",
        "    print(f\"초과 수익률: {excess_return}\")"
      ]
    },
    {
      "cell_type": "markdown",
      "id": "8143b80c",
      "metadata": {
        "id": "8143b80c"
      },
      "source": [
        "### 4. Financial Data Analysis\n",
        "\n",
        "금융 리스크 매니지먼트를 담당하는 당신은 위험을 측정하기 위해 역사적 데이터를 수집하여 Risk를 추정하고자 합니다. pandas-datareader Library를 이용하여 Naver finance의 데이터를 불러온 뒤, KOSPI index, KOSDAQ index의 2020년 1월 1일부터 2023년 6월 30일까지의 데이터를 수집해 각 index별 Risk 추정치를 보고하고 두 index간 correlation을 계산하세요"
      ]
    },
    {
      "cell_type": "code",
      "execution_count": null,
      "id": "272486a4",
      "metadata": {
        "id": "272486a4"
      },
      "outputs": [],
      "source": [
        "import pandas_datareader as web # pip install pandas-datareader"
      ]
    },
    {
      "cell_type": "markdown",
      "source": [
        "### 5. Konlpy 라이브러리를 활용하여 주어진 sample text에서 빈도가 가장 높은 10개의 명사를 리스트 형태로 반환하시오. (풀이 코드도 함께 작성할 것)"
      ],
      "metadata": {
        "id": "NFQ2rfPEuXCh"
      },
      "id": "NFQ2rfPEuXCh"
    }
  ],
  "metadata": {
    "kernelspec": {
      "display_name": "Python 3 (ipykernel)",
      "language": "python",
      "name": "python3"
    },
    "language_info": {
      "codemirror_mode": {
        "name": "ipython",
        "version": 3
      },
      "file_extension": ".py",
      "mimetype": "text/x-python",
      "name": "python",
      "nbconvert_exporter": "python",
      "pygments_lexer": "ipython3",
      "version": "3.9.13"
    },
    "toc": {
      "base_numbering": 1,
      "nav_menu": {},
      "number_sections": true,
      "sideBar": true,
      "skip_h1_title": false,
      "title_cell": "Table of Contents",
      "title_sidebar": "Contents",
      "toc_cell": false,
      "toc_position": {},
      "toc_section_display": true,
      "toc_window_display": false
    },
    "colab": {
      "provenance": [],
      "collapsed_sections": [
        "81d8d21c"
      ]
    }
  },
  "nbformat": 4,
  "nbformat_minor": 5
}